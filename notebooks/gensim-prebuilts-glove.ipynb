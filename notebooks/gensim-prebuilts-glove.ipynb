{
 "cells": [
  {
   "cell_type": "markdown",
   "metadata": {},
   "source": [
    "Available models:\n",
    "\n",
    "* `glove-wiki-gigaword-50`\n",
    "* `glove-wiki-gigaword-100`\n",
    "* `glove-wiki-gigaword-200`\n",
    "* `glove-wiki-gigaword-300`\n",
    "\n",
    "and more...."
   ]
  },
  {
   "cell_type": "code",
   "execution_count": 1,
   "metadata": {},
   "outputs": [
    {
     "name": "stderr",
     "output_type": "stream",
     "text": [
      "C:\\Users\\chapm\\Anaconda3\\envs\\pyspark1\\lib\\site-packages\\gensim\\utils.py:1197: UserWarning: detected Windows; aliasing chunkize to chunkize_serial\n",
      "  warnings.warn(\"detected Windows; aliasing chunkize to chunkize_serial\")\n"
     ]
    },
    {
     "name": "stdout",
     "output_type": "stream",
     "text": [
      "[==================================================] 100.0% 66.0/66.0MB downloaded\n"
     ]
    }
   ],
   "source": [
    "# https://github.com/RaRe-Technologies/gensim-data/releases\n",
    "import gensim.downloader as api\n",
    "\n",
    "model = api.load(\"glove-wiki-gigaword-50\")"
   ]
  },
  {
   "cell_type": "code",
   "execution_count": 2,
   "metadata": {},
   "outputs": [
    {
     "data": {
      "text/plain": [
       "gensim.models.keyedvectors.Word2VecKeyedVectors"
      ]
     },
     "execution_count": 2,
     "metadata": {},
     "output_type": "execute_result"
    }
   ],
   "source": [
    "type(model)"
   ]
  },
  {
   "cell_type": "code",
   "execution_count": 3,
   "metadata": {},
   "outputs": [
    {
     "data": {
      "text/plain": [
       "[('wild', 0.6852519512176514),\n",
       " ('!', 0.6822393536567688),\n",
       " ('devil', 0.671371579170227),\n",
       " ('me', 0.6685069799423218),\n",
       " ('love', 0.6679743528366089),\n",
       " ('cry', 0.6623075008392334),\n",
       " ('wonder', 0.6591781377792358),\n",
       " ('mighty', 0.6551779508590698),\n",
       " ('remember', 0.6529808044433594),\n",
       " ('you', 0.6510741710662842)]"
      ]
     },
     "execution_count": 3,
     "metadata": {},
     "output_type": "execute_result"
    }
   ],
   "source": [
    "# this can be used to generate topic names\n",
    "model.most_similar(positive=[\"russia\", \"hello\", \"frogs\"])"
   ]
  },
  {
   "cell_type": "code",
   "execution_count": 4,
   "metadata": {
    "scrolled": true
   },
   "outputs": [
    {
     "data": {
      "text/plain": [
       "array([ 0.32097  ,  1.0144   ,  0.50412  ,  0.42314  , -0.017368 ,\n",
       "        0.42165  ,  0.78563  ,  1.2075   , -0.82915  , -0.12545  ,\n",
       "        0.72666  , -0.68589  , -0.16918  ,  0.89959  ,  0.43864  ,\n",
       "        0.24371  ,  0.049558 , -0.23954  ,  0.35105  ,  0.69405  ,\n",
       "        0.47494  , -0.80122  , -0.11579  , -0.33322  ,  0.35565  ,\n",
       "       -2.5386   ,  0.37923  ,  0.052781 ,  0.54565  ,  0.13112  ,\n",
       "        2.7354   ,  0.45458  , -0.12994  , -0.10698  , -1.2169   ,\n",
       "       -0.57424  , -0.7642   ,  1.2824   , -0.95928  ,  0.0053543,\n",
       "        0.20225  , -0.31514  ,  2.1783   , -1.7204   ,  0.11169  ,\n",
       "        0.62552  , -0.87655  ,  0.93488  , -0.75778  , -0.49446  ],\n",
       "      dtype=float32)"
      ]
     },
     "execution_count": 4,
     "metadata": {},
     "output_type": "execute_result"
    }
   ],
   "source": [
    "model.get_vector(\"russia\")"
   ]
  },
  {
   "cell_type": "code",
   "execution_count": 6,
   "metadata": {},
   "outputs": [],
   "source": [
    "# for loading wiki data...for training lda/lsi models\n",
    "# data = api.load(\"wiki-english-20171001\")"
   ]
  },
  {
   "cell_type": "code",
   "execution_count": 5,
   "metadata": {},
   "outputs": [
    {
     "data": {
      "text/plain": [
       "(1, 50)"
      ]
     },
     "execution_count": 5,
     "metadata": {},
     "output_type": "execute_result"
    }
   ],
   "source": [
    "from text_vectors import TextVec\n",
    "mod = TextVec(model)\n",
    "\n",
    "mod.transform([[\"hello\", \"world\"]]).shape"
   ]
  }
 ],
 "metadata": {
  "kernelspec": {
   "display_name": "Python [conda env:pyspark1]",
   "language": "python",
   "name": "conda-env-pyspark1-py"
  },
  "language_info": {
   "codemirror_mode": {
    "name": "ipython",
    "version": 3
   },
   "file_extension": ".py",
   "mimetype": "text/x-python",
   "name": "python",
   "nbconvert_exporter": "python",
   "pygments_lexer": "ipython3",
   "version": "3.6.4"
  }
 },
 "nbformat": 4,
 "nbformat_minor": 2
}
