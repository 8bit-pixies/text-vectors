{
 "cells": [
  {
   "cell_type": "code",
   "execution_count": 1,
   "metadata": {},
   "outputs": [],
   "source": [
    "from text_vectors import TextVec"
   ]
  },
  {
   "cell_type": "code",
   "execution_count": 2,
   "metadata": {},
   "outputs": [
    {
     "data": {
      "text/plain": [
       "array([[-3.999150e-01,  7.597000e-01, -1.201970e-01,  2.954500e-01,\n",
       "         9.882550e-02, -4.551000e-01, -5.090950e-01, -2.826500e-01,\n",
       "         1.404500e-01,  2.194200e-01,  3.288735e-01,  3.987600e-01,\n",
       "        -3.585900e-01,  5.381550e-01,  1.024800e+00, -1.412195e-01,\n",
       "        -6.614000e-02,  5.867300e-01, -5.714700e-01, -1.098525e-01,\n",
       "        -4.170850e-02,  2.911685e-01,  9.799500e-02,  3.034850e-01,\n",
       "         8.380850e-01, -1.147305e+00, -8.838050e-01, -2.613000e-02,\n",
       "         4.856500e-02, -3.882150e-01,  2.053510e+00,  6.011650e-01,\n",
       "        -2.663175e-01,  3.435400e-01, -9.298150e-01, -2.343700e-01,\n",
       "         1.258950e-01, -1.491650e-01, -4.573615e-01, -6.752050e-01,\n",
       "        -4.088000e-02, -5.184800e-01,  2.271900e-01, -4.466850e-01,\n",
       "         5.242400e-01,  4.384400e-01, -7.453550e-02, -5.183800e-01,\n",
       "        -1.637785e-01, -1.690000e-03]])"
      ]
     },
     "execution_count": 2,
     "metadata": {},
     "output_type": "execute_result"
    }
   ],
   "source": [
    "tv = TextVec()\n",
    "\n",
    "tv.fit_transform([\"hello world\".split(\" \")])"
   ]
  },
  {
   "cell_type": "code",
   "execution_count": 3,
   "metadata": {},
   "outputs": [
    {
     "data": {
      "text/plain": [
       "array([[-3.999150e-01,  7.597000e-01, -1.201970e-01,  2.954500e-01,\n",
       "         9.882550e-02, -4.551000e-01, -5.090950e-01, -2.826500e-01,\n",
       "         1.404500e-01,  2.194200e-01,  3.288735e-01,  3.987600e-01,\n",
       "        -3.585900e-01,  5.381550e-01,  1.024800e+00, -1.412195e-01,\n",
       "        -6.614000e-02,  5.867300e-01, -5.714700e-01, -1.098525e-01,\n",
       "        -4.170850e-02,  2.911685e-01,  9.799500e-02,  3.034850e-01,\n",
       "         8.380850e-01, -1.147305e+00, -8.838050e-01, -2.613000e-02,\n",
       "         4.856500e-02, -3.882150e-01,  2.053510e+00,  6.011650e-01,\n",
       "        -2.663175e-01,  3.435400e-01, -9.298150e-01, -2.343700e-01,\n",
       "         1.258950e-01, -1.491650e-01, -4.573615e-01, -6.752050e-01,\n",
       "        -4.088000e-02, -5.184800e-01,  2.271900e-01, -4.466850e-01,\n",
       "         5.242400e-01,  4.384400e-01, -7.453550e-02, -5.183800e-01,\n",
       "        -1.637785e-01, -1.690000e-03]])"
      ]
     },
     "execution_count": 3,
     "metadata": {},
     "output_type": "execute_result"
    }
   ],
   "source": [
    "tv1 = TextVec(method='glove')\n",
    "\n",
    "tv1.fit_transform([\"hello world\".split(\" \")])"
   ]
  }
 ],
 "metadata": {
  "kernelspec": {
   "display_name": "Python [conda env:pyspark1]",
   "language": "python",
   "name": "conda-env-pyspark1-py"
  },
  "language_info": {
   "codemirror_mode": {
    "name": "ipython",
    "version": 3
   },
   "file_extension": ".py",
   "mimetype": "text/x-python",
   "name": "python",
   "nbconvert_exporter": "python",
   "pygments_lexer": "ipython3",
   "version": "3.6.4"
  }
 },
 "nbformat": 4,
 "nbformat_minor": 2
}
