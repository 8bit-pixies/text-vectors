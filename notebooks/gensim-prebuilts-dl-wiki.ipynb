{
 "cells": [
  {
   "cell_type": "code",
   "execution_count": 4,
   "metadata": {},
   "outputs": [],
   "source": [
    "# https://github.com/RaRe-Technologies/gensim-data/releases\n",
    "import gensim.downloader as api\n",
    "\n",
    "data = api.load(\"wiki-english-20171001\")\n",
    "model = api.load(\"glove-wiki-gigaword-50\") # extract the dictionary from here"
   ]
  },
  {
   "cell_type": "markdown",
   "metadata": {},
   "source": [
    "Usage\n",
    "\n",
    "```py\n",
    "for article in data:\n",
    "    for section_title, section_text in zip(article['section_titles'], article['section_texts']):\n",
    "        print(\"Section title: %s\" % section_title)\n",
    "        print(\"Section text: %s\" % section_text)\n",
    "    break\n",
    "```\n",
    "\n"
   ]
  },
  {
   "cell_type": "code",
   "execution_count": 65,
   "metadata": {},
   "outputs": [],
   "source": [
    "from gensim.corpora import Dictionary\n",
    "\n",
    "texts = model.vocab.keys()\n",
    "dct = Dictionary([list(texts)])"
   ]
  },
  {
   "cell_type": "code",
   "execution_count": 66,
   "metadata": {},
   "outputs": [],
   "source": [
    "import itertools\n",
    "from gensim.sklearn_api.ldamodel import LdaTransformer"
   ]
  },
  {
   "cell_type": "code",
   "execution_count": 67,
   "metadata": {},
   "outputs": [],
   "source": [
    "lda = LdaTransformer(num_topics=100, id2word=dct)"
   ]
  },
  {
   "cell_type": "code",
   "execution_count": 69,
   "metadata": {},
   "outputs": [
    {
     "data": {
      "text/plain": [
       "<gensim.corpora.dictionary.Dictionary at 0x24a2d89ac88>"
      ]
     },
     "execution_count": 69,
     "metadata": {},
     "output_type": "execute_result"
    }
   ],
   "source": [
    "lda.id2word.doc2bow"
   ]
  },
  {
   "cell_type": "code",
   "execution_count": null,
   "metadata": {},
   "outputs": [
    {
     "name": "stderr",
     "output_type": "stream",
     "text": [
      "C:\\Users\\chapm\\Anaconda3\\envs\\pyspark1\\lib\\site-packages\\gensim\\models\\ldamodel.py:582: RuntimeWarning: overflow encountered in exp2\n",
      "  perwordbound, np.exp2(-perwordbound), len(chunk), corpus_words\n",
      "C:\\Users\\chapm\\Anaconda3\\envs\\pyspark1\\lib\\site-packages\\gensim\\models\\ldamodel.py:775: RuntimeWarning: divide by zero encountered in log\n",
      "  diff = np.log(self.expElogbeta)\n"
     ]
    }
   ],
   "source": [
    "i = 0\n",
    "\n",
    "for article in data:\n",
    "    article_split = list(itertools.chain(*[x.strip().split(\" \") for x in article['section_texts']]))\n",
    "    train_data = [lda.id2word.doc2bow(article_split)]\n",
    "    lda.partial_fit(train_data)\n",
    "    i += 1\n",
    "    \n",
    "    if i > 1000:\n",
    "        break"
   ]
  },
  {
   "cell_type": "code",
   "execution_count": null,
   "metadata": {},
   "outputs": [],
   "source": [
    "lda"
   ]
  }
 ],
 "metadata": {
  "kernelspec": {
   "display_name": "Python [conda env:pyspark1]",
   "language": "python",
   "name": "conda-env-pyspark1-py"
  },
  "language_info": {
   "codemirror_mode": {
    "name": "ipython",
    "version": 3
   },
   "file_extension": ".py",
   "mimetype": "text/x-python",
   "name": "python",
   "nbconvert_exporter": "python",
   "pygments_lexer": "ipython3",
   "version": "3.6.4"
  }
 },
 "nbformat": 4,
 "nbformat_minor": 2
}
